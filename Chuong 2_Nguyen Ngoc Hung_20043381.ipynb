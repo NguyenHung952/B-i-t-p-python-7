{
 "cells": [
  {
   "cell_type": "code",
   "execution_count": 18,
   "id": "99943d70",
   "metadata": {},
   "outputs": [
    {
     "name": "stdout",
     "output_type": "stream",
     "text": [
      "Nhap ho ten nguoi muon tim: Nguyen Van C\n",
      "Nguyen Van C 7.0 7.0 7.0\n"
     ]
    }
   ],
   "source": [
    "#2.\tSử dụng kiểu List viết chương trình có dữ liệu điểm trung bình môn học của học sinh Nguyễn Văn A như sau:\n",
    "#\tNguyễn Văn A: Toán 7.4 Lý 6.5 Hoá 7.0\n",
    "#\tHiển thị màn hình hướng dẫn nhập liệu search thông qua nhập tên học sinh. Ví dụ nhập Nguyễn Văn A thì nghĩa là hiển thị xuất ra tên và điểm trung bình môn học.\n",
    "#GỢI Ý: Áp dụng các kiểu dữ liệu List cho tên và từng môn học tương ứng cho Học Sinh như sau\n",
    "#Ten= [“Nguyen Van A”,  “Nguyen Van B”, “Nguyen Van C”]\n",
    "#Toan= [“7.4”,  “6.5”, “7.0”]\n",
    "#Tương tự cho các môn còn lại. Ví dụ search Nguyen Van A nghĩa là chọn kiểu list vị trí số 1 thì xuất ra màn hình Ten[0], Toan[0], Ly[0], Hoa[0].\n",
    "\n",
    "Ten= [\"Nguyen Van A\",\"Nguyen Van B\",\"Nguyen Van C\"]\n",
    "Toan = [7.4, 6.5, 7.0]\n",
    "Ly = [7.4, 6.5, 7.0]\n",
    "Hoa = [7.4, 6.5, 7.0]\n",
    "\n",
    "def linear_search(input_list: list, element: int):\n",
    "    list_len = len(input_list)\n",
    "    for i in range(list_len):\n",
    "        if input_list[i] == element:\n",
    "            return i\n",
    "    return -1\n",
    "\n",
    "dauvao = input(\"Nhap ho ten nguoi muon tim: \")\n",
    "found = linear_search(Ten, dauvao)\n",
    "\n",
    "if( found == 0 ):\n",
    "    print(Ten[0], Toan[0], Ly[0], Hoa[0])\n",
    "elif( found == 1 ):\n",
    "    print(Ten[1], Toan[1], Ly[1], Hoa[1])\n",
    "else:\n",
    "    print(Ten[2], Toan[2], Ly[2], Hoa[2])\n"
   ]
  },
  {
   "cell_type": "code",
   "execution_count": 35,
   "id": "16519fd1",
   "metadata": {},
   "outputs": [
    {
     "name": "stdout",
     "output_type": "stream",
     "text": [
      "Nhap thong tin loai trai cay: Mango\n",
      "Mango 70.000/kg\n"
     ]
    }
   ],
   "source": [
    "#3.\tSử dụng kiểu List viết chương trình có kiểu dữ liệu là các loại trái cây từ  apple tới mango như trên. \n",
    "#Xuất ra màn hình tên và giá tiền/ kg của các loại trái cây từ cherry tới melon. Dữ liệu giá tiền tự chọn\n",
    "Traicay=[\"Apple\",\"Orange\",\"Banana\",\"Grape\",\"Grapefruit\",\"Starfruit\",\"Mango\"]\n",
    "Giatien=[\"10.000/kg\",\"20.0000/kg\",\"30.0000/kg\",\"40.000/kg\",\"50.000/kg\",\"60.000/kg\",\"70.000/kg\"]\n",
    "\n",
    "def linear_search(input_list: list, element: int):\n",
    "    list_len = len(input_list)\n",
    "    for i in range(list_len):\n",
    "        if input_list[i] == element:\n",
    "            return i\n",
    "    return -1\n",
    "\n",
    "dauvao = input(\"Nhap thong tin loai trai cay: \")\n",
    "found = linear_search(Traicay, dauvao)\n",
    "\n",
    "if( found == 0 ):\n",
    "    print(Traicay[0] + \" \" + Giatien[0])\n",
    "if( found == 1 ):\n",
    "    print(Traicay[1] + \" \" + Giatien[1])\n",
    "if( found == 2 ):\n",
    "    print(Traicay[2] + \" \" + Giatien[2])\n",
    "if( found == 3 ):\n",
    "    print(Traicay[3] + \" \" + Giatien[3])\n",
    "if( found == 4 ):\n",
    "    print(Traicay[4] + \" \" + Giatien[4])\n",
    "if( found == 5 ):\n",
    "    print(Traicay[5] + \" \" + Giatien[5])\n",
    "\n",
    "else:\n",
    "    print(Traicay[6] + \" \" + Giatien[6])\n",
    "\n"
   ]
  },
  {
   "cell_type": "code",
   "execution_count": 36,
   "id": "03ba49ac",
   "metadata": {},
   "outputs": [
    {
     "name": "stdout",
     "output_type": "stream",
     "text": [
      "Nhap ho ten nguoi muon tim: Nguyen Ngoc Hung\n",
      "Ten hoc sinh khong ton tai\n"
     ]
    }
   ],
   "source": [
    "#4.\tThêm phần check tên học sinh có tồn tại hay không ở phần đầu đoạn code và xuất ra màn hình. \n",
    "#THÊM VÀO CODE BÀI SỐ 2\n",
    "\n",
    "Ten= [\"Nguyen Van A\",\"Nguyen Van B\",\"Nguyen Van C\"]\n",
    "Toan = [7.4, 6.5, 7.0]\n",
    "Ly = [7.4, 6.5, 7.0]\n",
    "Hoa = [7.4, 6.5, 7.0]\n",
    "\n",
    "def linear_search(input_list: list, element: int):\n",
    "    list_len = len(input_list)\n",
    "    for i in range(list_len):\n",
    "        if input_list[i] == element:\n",
    "            return i\n",
    "    return -1\n",
    "\n",
    "dauvao = input(\"Nhap ho ten nguoi muon tim: \")\n",
    "found = linear_search(Ten, dauvao)\n",
    "\n",
    "if( found == 0 ):\n",
    "    print(Ten[0], Toan[0], Ly[0], Hoa[0])\n",
    "if( found == 1 ):\n",
    "    print(Ten[1], Toan[1], Ly[1], Hoa[1])\n",
    "if( found == 1 ):\n",
    "    print(Ten[2], Toan[2], Ly[2], Hoa[2])\n",
    "else:\n",
    "    print(\"Ten hoc sinh khong ton tai\")\n"
   ]
  },
  {
   "cell_type": "code",
   "execution_count": 40,
   "id": "f1d4d712",
   "metadata": {},
   "outputs": [
    {
     "name": "stdout",
     "output_type": "stream",
     "text": [
      "{'mango', 'coconut', 'grape', 'kiwi', 'apple', 'orange', 'grapefruit', 'banana', 'starfruit'}\n"
     ]
    }
   ],
   "source": [
    "#5.\tChỉnh sửa phần BÀI THỰC HÀNH SỐ 3, bỏ bớt thành phần cuối cùng. \n",
    "#Chèn thêm trước trái kiwi thêm hai loại trái cây khác tự chọn. LƯU Ý TRÁI CÂY DÙNG TIẾNG ANH.\n",
    "\n",
    "traicay={\"apple\",\"orange\",\"banana\",\"grape\",\"grapefruit\",\"starfruit\",\"mango\"}\n",
    "giatien=[\"10.000/kg\",\"20.0000/kg\",\"30.0000/kg\",\"40.000/kg\",\"50.000/kg\",\"60.000/kg\",\"70.000/kg\"]\n",
    "\n",
    "traicay.update([\"kiwi\", \"coconut\"])\n",
    "print(traicay)\n",
    "\n"
   ]
  },
  {
   "cell_type": "code",
   "execution_count": null,
   "id": "dbc3aa92",
   "metadata": {},
   "outputs": [],
   "source": [
    "#6.\tNhập từ bàn phím và lưu dữ vào từng list với các trường như sau: \n",
    "#Mã số Sinh Viên, Họ và Tên, Ngày Tháng Năm Sinh, Tên Lớp, Điểm Thường Kỳ 1,2,3, Điểm Thi Giữa Kỳ, Điểm Thi Cuối Kỳ, Điểm trung bình tổng kết, Kết quả đậu rớt.\n",
    "#LƯU Ý: chương trình phải có sự lựa chọn cho người dùng muốn nhập liệu hay search. \n",
    "#VÀ search dựa trên MSSV, Tên, hoặc nhóm lớp tương ứng như DH14A, DH14B.\n",
    "\n",
    "thislist = [\"Mã số Sinh Viên\",\"Họ và Tên\",\"Ngày Tháng Năm Sinh\",\"Tên Lớp\",\"Điểm Thường Kỳ 1\",\"Điểm Thường Kỳ 2\",\"Điểm Thường Kỳ 3\",\"Điểm Thi Giữa Kỳ\",\"Điểm Thi Cuối Kỳ\",\"Điểm trung bình tổng kết\",\"Kết quả đậu rớt\"]\n",
    "thislist = [\"20043381\",\"Nguyen Ngoc Hung\",\"09/05/2002\",\"DHDTVT16A\",7,8,9,7,8,8,\"Đậu\"]\n",
    "if \"apple\" in thislist:\n",
    "  print(\"Yes, 'apple' is in the fruits list\")\n"
   ]
  },
  {
   "cell_type": "code",
   "execution_count": 42,
   "id": "20fef265",
   "metadata": {},
   "outputs": [
    {
     "name": "stdout",
     "output_type": "stream",
     "text": [
      "So thich cua sinh vien: Ngu Nuong\n",
      "So thich cua sinh vien: Nghe nhac\n",
      "{'STT': '12', 'Ho va ten': 'Nguyen Ngoc Hung', 'MSSV': '20043381', 'Ngay thang nam sinh': '09/05/2002', 'Que quan': 'Cam Ranh', 'Hoc phi': '10.000.000', 'So thich': 'Nghe nhac'}\n"
     ]
    }
   ],
   "source": [
    "#7.\tThiết lập dữ liệu Dictionary của 1 sinh viên gồm STT, Họ và Tên, MSSV, Ngày tháng năm sinh, quê quán, Học Phí, Sở Thích.\n",
    "#+ In ra màn hình Sở thích của Sinh viên\n",
    "#+ Sau đó thay đổi giá trị sở thích và in ra lại lần nữa.\n",
    "\n",
    "dict = {\n",
    "    'STT':'12',\n",
    "    'Ho va ten':'Nguyen Ngoc Hung',\n",
    "    'MSSV':'20043381',\n",
    "    'Ngay thang nam sinh':'09/05/2002',\n",
    "    'Que quan':'Cam Ranh',\n",
    "    'Hoc phi':'10.000.000',\n",
    "    'So thich':'Ngu Nuong'\n",
    "}\n",
    "print('So thich cua sinh vien:',dict['So thich'])\n",
    "dict['So thich'] = 'Nghe nhac'\n",
    "print('So thich cua sinh vien:',dict['So thich'])\n",
    "print(dict)"
   ]
  },
  {
   "cell_type": "code",
   "execution_count": 52,
   "id": "69adbb2f",
   "metadata": {},
   "outputs": [
    {
     "name": "stdout",
     "output_type": "stream",
     "text": [
      "12\n",
      "Nguyen Ngoc Hung\n",
      "20043381\n",
      "09/05/2002\n",
      "Cam Ranh\n",
      "10.000.000\n",
      "Ngu Nuong\n",
      "-\n",
      "STT\n",
      "Ho va ten\n",
      "MSSV\n",
      "Ngay thang nam sinh\n",
      "Que quan\n",
      "Hoc phi\n",
      "So thich\n",
      "STT 12\n",
      "Ho va ten Nguyen Ngoc Hung\n",
      "MSSV 20043381\n",
      "Ngay thang nam sinh 09/05/2002\n",
      "Que quan Cam Ranh\n",
      "Hoc phi 10.000.000\n",
      "So thich Ngu Nuong\n"
     ]
    }
   ],
   "source": [
    "#8.\tChỉnh sửa lại code bài 7\n",
    "#+ In  ra tất cả key name\n",
    "#+ Dùng key name đã in ra để truy xuất 1 giá trị nào đó\n",
    "#+ In  ra tất cả giá trị theo key name đó.\n",
    "#+ In ra tất cả key name và giá trị đồng thời\n",
    "\n",
    "dict = {\n",
    "    'STT':'12',\n",
    "    'Ho va ten':'Nguyen Ngoc Hung',\n",
    "    'MSSV':'20043381',\n",
    "    'Ngay thang nam sinh':'09/05/2002',\n",
    "    'Que quan':'Cam Ranh',\n",
    "    'Hoc phi':'10.000.000',\n",
    "    'So thich':'Ngu Nuong'\n",
    "}\n",
    "\n",
    "for x in dict:\n",
    "    print(dict[x])\n",
    "print('-')\n",
    "for x in dict:\n",
    "    print(x)\n",
    "for x, y in dict.items():\n",
    "    print(x, y)"
   ]
  },
  {
   "cell_type": "code",
   "execution_count": 60,
   "id": "8eb91fda",
   "metadata": {},
   "outputs": [
    {
     "name": "stdout",
     "output_type": "stream",
     "text": [
      "So luong thanh phan trong Dictionary:  7\n",
      "-\n",
      "12\n",
      "Nguyen Ngoc Hung\n",
      "20043381\n",
      "09/05/2002\n",
      "Cam Ranh\n",
      "10.000.000\n",
      "Ngu Nuong\n",
      "Tieng Viet\n",
      "Kinh\n",
      "-\n",
      "STT\n",
      "Ho va ten\n",
      "MSSV\n",
      "Ngay thang nam sinh\n",
      "Que quan\n",
      "Hoc phi\n",
      "Ngoai ngu\n",
      "Dan toc\n",
      "-\n",
      "STT 12\n",
      "Ho va ten Nguyen Ngoc Hung\n",
      "MSSV 20043381\n",
      "Ngay thang nam sinh 09/05/2002\n",
      "Que quan Cam Ranh\n",
      "Hoc phi 10.000.000\n",
      "Ngoai ngu Tieng Viet\n",
      "Dan toc Kinh\n"
     ]
    }
   ],
   "source": [
    "#9.\tChỉnh sửa code phần bài 7\n",
    "#+ Kiểm tra và in ra số lượng thành phần trong Dictionry\n",
    "#+ Thêm vào Ngoại ngữ và Dân Tộc, và in ra kết quả tất cả thành phần trong Dictionary\n",
    "#+ Xoá key name và giá trị “sở thích” và sau đó in ra tất cả thành phần lại lần nữa.\n",
    "\n",
    "dict = {\n",
    "    'STT':'12',\n",
    "    'Ho va ten':'Nguyen Ngoc Hung',\n",
    "    'MSSV':'20043381',\n",
    "    'Ngay thang nam sinh':'09/05/2002',\n",
    "    'Que quan':'Cam Ranh',\n",
    "    'Hoc phi':'10.000.000',\n",
    "    'So thich':'Ngu Nuong'\n",
    "}\n",
    "print(\"So luong thanh phan trong Dictionary: \",len(dict))\n",
    "print('-')\n",
    "\n",
    "dict['Ngoai ngu']='Tieng Viet'\n",
    "dict['Dan toc']='Kinh'\n",
    "\n",
    "for x in dict:\n",
    "    print(dict[x])\n",
    "print('-')\n",
    "dict.pop('So thich')\n",
    "\n",
    "for x in dict:\n",
    "    print(x)\n",
    "print('-')\n",
    "\n",
    "for x, y in dict.items():\n",
    "    print(x, y)"
   ]
  },
  {
   "cell_type": "code",
   "execution_count": 5,
   "id": "5ac037d4",
   "metadata": {},
   "outputs": [
    {
     "ename": "SyntaxError",
     "evalue": "invalid syntax (2912773148.py, line 16)",
     "output_type": "error",
     "traceback": [
      "\u001b[1;36m  Input \u001b[1;32mIn [5]\u001b[1;36m\u001b[0m\n\u001b[1;33m    2 : {\u001b[0m\n\u001b[1;37m    ^\u001b[0m\n\u001b[1;31mSyntaxError\u001b[0m\u001b[1;31m:\u001b[0m invalid syntax\n"
     ]
    }
   ],
   "source": [
    "#10.\tThiết lập 3 bộ dữ liệu sinh viên gồm: Tên, MSSV, lớp.\n",
    "#+ Nest lại 3 dict của 3 sinh viên trên thành một dict mới tên lớp DHDT12B.\n",
    "#+ In ra key name tất cả thành phần trong dict lớp DHDT12B\n",
    "#+ Search và xuất ra bộ dữ liệu dict của sinh viên thứ 2\n",
    "#+Copy dict lớp DHDT12B và tạo ra dict mới là tên môn học ANHVAN01\n",
    "#+Thêm 2 dict của 2 sinh viên lớp DHDT12A vào lớp ANHVAN01.\n",
    "\n",
    "nested_dict = { \n",
    "\n",
    "    1 : {'Ho va ten':'Nguyen Ngoc Hung','MSSV':'20043381','Lop':'DHDT12B'}\n",
    "\n",
    "    2 : {'Ho va ten':'Nguyen Minh Phuong','MSSV':'20045961','Lop':'DHDT12B'}\n",
    "\n",
    "    3 : {'Ho va ten':'Nguyen Huu Cuong','MSSV':'20033901','Lop':'DHDT12B'}\n",
    "}\n",
    "for x in dict:\n",
    "    print(nested_dict[x])\n"
   ]
  },
  {
   "cell_type": "code",
   "execution_count": null,
   "id": "49e5ff0a",
   "metadata": {},
   "outputs": [],
   "source": [
    "#11.\tChỉnh sửa lại phần code bài 10\n",
    "#+ Thêm vào 2 sinh viên cho lớp DHDT12B thành tổng 5 sinh viên.\n",
    "#+ Thêm vào lớp ANHVAN01 hai sinh viên mới lớp DHDT12B\n",
    "#+ Chỉnh sửa toàn bộ dict DHDT12B, lớp ANHVAN01 và 2 sinh viên lớp DHDT12A bằng cách thêm thành phần quê quán, trình độ anh văn điểm Toiec hiện tại, tình trạng học phí.\n",
    "#+ Xoá 1 sinh viên lớp DHDT12A do chưa đóng học phí khỏi lớp ANHVAN01\n"
   ]
  }
 ],
 "metadata": {
  "kernelspec": {
   "display_name": "Python 3 (ipykernel)",
   "language": "python",
   "name": "python3"
  },
  "language_info": {
   "codemirror_mode": {
    "name": "ipython",
    "version": 3
   },
   "file_extension": ".py",
   "mimetype": "text/x-python",
   "name": "python",
   "nbconvert_exporter": "python",
   "pygments_lexer": "ipython3",
   "version": "3.9.12"
  }
 },
 "nbformat": 4,
 "nbformat_minor": 5
}
